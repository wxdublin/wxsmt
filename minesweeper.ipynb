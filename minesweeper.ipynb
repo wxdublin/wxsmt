{
 "cells": [
  {
   "cell_type": "code",
   "execution_count": 7,
   "metadata": {},
   "outputs": [],
   "source": [
    "import iplantuml"
   ]
  },
  {
   "cell_type": "code",
   "execution_count": 11,
   "metadata": {},
   "outputs": [
    {
     "data": {
      "image/svg+xml": [
       "<svg contentScriptType=\"application/ecmascript\" contentStyleType=\"text/css\" height=\"245px\" preserveAspectRatio=\"none\" style=\"width:222px;height:245px;\" version=\"1.1\" viewBox=\"0 0 222 245\" width=\"222px\" xmlns=\"http://www.w3.org/2000/svg\" xmlns:xlink=\"http://www.w3.org/1999/xlink\" zoomAndPan=\"magnify\"><defs><filter height=\"300%\" id=\"f1su1bkfoioth1\" width=\"300%\" x=\"-1\" y=\"-1\"><feGaussianBlur result=\"blurOut\" stdDeviation=\"2.0\"/><feColorMatrix in=\"blurOut\" result=\"blurOut2\" type=\"matrix\" values=\"0 0 0 0 0 0 0 0 0 0 0 0 0 0 0 0 0 0 .4 0\"/><feOffset dx=\"4.0\" dy=\"4.0\" in=\"blurOut2\" result=\"blurOut3\"/><feBlend in=\"SourceGraphic\" in2=\"blurOut3\" mode=\"normal\"/></filter></defs><g><text fill=\"#000000\" font-family=\"sans-serif\" font-size=\"14\" font-weight=\"bold\" lengthAdjust=\"spacingAndGlyphs\" textLength=\"48\" x=\"87.5\" y=\"22.9951\">Graph</text><line style=\"stroke: #A80036; stroke-width: 1.0; stroke-dasharray: 5.0,5.0;\" x1=\"38\" x2=\"38\" y1=\"68.5938\" y2=\"205.125\"/><line style=\"stroke: #A80036; stroke-width: 1.0; stroke-dasharray: 5.0,5.0;\" x1=\"181\" x2=\"181\" y1=\"68.5938\" y2=\"205.125\"/><rect fill=\"#FEFECE\" filter=\"url(#f1su1bkfoioth1)\" height=\"30.2969\" style=\"stroke: #A80036; stroke-width: 1.5;\" width=\"56\" x=\"8\" y=\"33.2969\"/><text fill=\"#000000\" font-family=\"sans-serif\" font-size=\"14\" lengthAdjust=\"spacingAndGlyphs\" textLength=\"42\" x=\"15\" y=\"53.292\">Graph</text><rect fill=\"#FEFECE\" filter=\"url(#f1su1bkfoioth1)\" height=\"30.2969\" style=\"stroke: #A80036; stroke-width: 1.5;\" width=\"56\" x=\"8\" y=\"204.125\"/><text fill=\"#000000\" font-family=\"sans-serif\" font-size=\"14\" lengthAdjust=\"spacingAndGlyphs\" textLength=\"42\" x=\"15\" y=\"224.1201\">Graph</text><rect fill=\"#FEFECE\" filter=\"url(#f1su1bkfoioth1)\" height=\"30.2969\" style=\"stroke: #A80036; stroke-width: 1.5;\" width=\"64\" x=\"147\" y=\"33.2969\"/><text fill=\"#000000\" font-family=\"sans-serif\" font-size=\"14\" lengthAdjust=\"spacingAndGlyphs\" textLength=\"50\" x=\"154\" y=\"53.292\">IBatfish</text><rect fill=\"#FEFECE\" filter=\"url(#f1su1bkfoioth1)\" height=\"30.2969\" style=\"stroke: #A80036; stroke-width: 1.5;\" width=\"64\" x=\"147\" y=\"204.125\"/><text fill=\"#000000\" font-family=\"sans-serif\" font-size=\"14\" lengthAdjust=\"spacingAndGlyphs\" textLength=\"50\" x=\"154\" y=\"224.1201\">IBatfish</text><polygon fill=\"#A80036\" points=\"169,95.5938,179,99.5938,169,103.5938,173,99.5938\" style=\"stroke: #A80036; stroke-width: 1.0;\"/><line style=\"stroke: #A80036; stroke-width: 1.0;\" x1=\"38\" x2=\"175\" y1=\"99.5938\" y2=\"99.5938\"/><text fill=\"#000000\" font-family=\"sans-serif\" font-size=\"13\" lengthAdjust=\"spacingAndGlyphs\" textLength=\"119\" x=\"45\" y=\"94.6606\">loadConfigurations</text><polygon fill=\"#A80036\" points=\"49,124.7266,39,128.7266,49,132.7266,45,128.7266\" style=\"stroke: #A80036; stroke-width: 1.0;\"/><line style=\"stroke: #A80036; stroke-width: 1.0; stroke-dasharray: 2.0,2.0;\" x1=\"43\" x2=\"180\" y1=\"128.7266\" y2=\"128.7266\"/><text fill=\"#000000\" font-family=\"sans-serif\" font-size=\"13\" lengthAdjust=\"spacingAndGlyphs\" textLength=\"97\" x=\"55\" y=\"123.7935\">_configurations</text><polygon fill=\"#A80036\" points=\"169,153.8594,179,157.8594,169,161.8594,173,157.8594\" style=\"stroke: #A80036; stroke-width: 1.0;\"/><line style=\"stroke: #A80036; stroke-width: 1.0;\" x1=\"38\" x2=\"175\" y1=\"157.8594\" y2=\"157.8594\"/><text fill=\"#000000\" font-family=\"sans-serif\" font-size=\"13\" lengthAdjust=\"spacingAndGlyphs\" textLength=\"114\" x=\"45\" y=\"152.9263\">computeTopology</text><polygon fill=\"#A80036\" points=\"49,182.9922,39,186.9922,49,190.9922,45,186.9922\" style=\"stroke: #A80036; stroke-width: 1.0;\"/><line style=\"stroke: #A80036; stroke-width: 1.0; stroke-dasharray: 2.0,2.0;\" x1=\"43\" x2=\"180\" y1=\"186.9922\" y2=\"186.9922\"/><text fill=\"#000000\" font-family=\"sans-serif\" font-size=\"13\" lengthAdjust=\"spacingAndGlyphs\" textLength=\"62\" x=\"55\" y=\"182.0591\">_topology</text><!--\n",
       "@startuml\n",
       "Title Graph\n",
       "Graph -> IBatfish: loadConfigurations\n",
       "IBatfish - -> Graph: _configurations\n",
       "Graph -> IBatfish: computeTopology\n",
       "IBatfish - -> Graph: _topology\n",
       "\n",
       "@enduml\n",
       "\n",
       "PlantUML version 1.2017.15(Mon Jul 03 09:45:34 PDT 2017)\n",
       "(GPL source distribution)\n",
       "Java Runtime: Java(TM) SE Runtime Environment\n",
       "JVM: Java HotSpot(TM) 64-Bit Server VM\n",
       "Java Version: 1.8.0_101-b13\n",
       "Operating System: Linux\n",
       "OS Version: 4.2.0-42-generic\n",
       "Default Encoding: UTF-8\n",
       "Language: en\n",
       "Country: US\n",
       "--></g></svg>"
      ],
      "text/plain": [
       "<IPython.core.display.SVG object>"
      ]
     },
     "execution_count": 11,
     "metadata": {},
     "output_type": "execute_result"
    }
   ],
   "source": [
    "%%plantuml\n",
    "@startuml\n",
    "Title Graph\n",
    "Graph -> IBatfish: loadConfigurations\n",
    "IBatfish --> Graph: _configurations\n",
    "Graph -> IBatfish: computeTopology\n",
    "IBatfish --> Graph: _topology\n",
    "\n",
    "@enduml\n"
   ]
  },
  {
   "cell_type": "code",
   "execution_count": null,
   "metadata": {
    "collapsed": true
   },
   "outputs": [],
   "source": []
  }
 ],
 "metadata": {
  "kernelspec": {
   "display_name": "Python 3",
   "language": "python",
   "name": "python3"
  },
  "language_info": {
   "codemirror_mode": {
    "name": "ipython",
    "version": 3
   },
   "file_extension": ".py",
   "mimetype": "text/x-python",
   "name": "python",
   "nbconvert_exporter": "python",
   "pygments_lexer": "ipython3",
   "version": "3.6.2"
  }
 },
 "nbformat": 4,
 "nbformat_minor": 2
}
